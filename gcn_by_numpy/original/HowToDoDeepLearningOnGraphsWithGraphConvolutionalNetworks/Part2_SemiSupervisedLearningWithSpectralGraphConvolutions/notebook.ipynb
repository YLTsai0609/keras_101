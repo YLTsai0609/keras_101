{
 "cells": [
  {
   "cell_type": "markdown",
   "metadata": {},
   "source": [
    "# How to Do Deep Learning on Graphs with Graph Convolutional Networks\n",
    "## Part 2: Semi-Supervised Learning with Spectral Graph Convolutions\n",
    "This notebook accompanies my Medium article with the above title for readers to try out and explore graph convolutional networks for themselves. You can find the article [here](https://towardsdatascience.com/how-to-do-deep-learning-on-graphs-with-graph-convolutional-networks-62acf5b143d0). To run the notebook, install the packages specified in the accompanying ```requirements.txt``` file."
   ]
  },
  {
   "cell_type": "markdown",
   "metadata": {},
   "source": [
    "#  Load Karate Club"
   ]
  },
  {
   "cell_type": "code",
   "execution_count": 1,
   "metadata": {
    "ExecuteTime": {
     "end_time": "2020-08-05T13:41:58.057214Z",
     "start_time": "2020-08-05T13:41:55.790249Z"
    }
   },
   "outputs": [],
   "source": [
    "from collections import namedtuple\n",
    "from networkx import read_edgelist, set_node_attributes\n",
    "from pandas import read_csv, Series\n",
    "from numpy import array\n",
    "\n",
    "DataSet = namedtuple(\n",
    "    'DataSet',\n",
    "    field_names=['X_train', 'y_train', 'X_test', 'y_test', 'network']\n",
    ")\n",
    "\n",
    "def load_karate_club():\n",
    "    network = read_edgelist(\n",
    "        'karate.edgelist',\n",
    "        nodetype=int)\n",
    "\n",
    "    attributes = read_csv(\n",
    "        'karate.attributes.csv',\n",
    "        index_col=['node'])\n",
    "\n",
    "    for attribute in attributes.columns.values:\n",
    "        set_node_attributes(\n",
    "            network,\n",
    "            values=Series(\n",
    "                attributes[attribute],\n",
    "                index=attributes.index).to_dict(),\n",
    "            name=attribute\n",
    "        )\n",
    "\n",
    "    X_train, y_train = map(array, zip(*[\n",
    "        ([node], data['role'] == 'Administrator')\n",
    "        for node, data in network.nodes(data=True)\n",
    "        if data['role'] in {'Administrator', 'Instructor'}\n",
    "    ]))\n",
    "    X_test, y_test = map(array, zip(*[\n",
    "        ([node], data['community'] == 'Administrator')\n",
    "        for node, data in network.nodes(data=True)\n",
    "        if data['role'] == 'Member'\n",
    "    ]))\n",
    "    \n",
    "    return DataSet(\n",
    "        X_train, y_train,\n",
    "        X_test, y_test,\n",
    "        network)"
   ]
  },
  {
   "cell_type": "code",
   "execution_count": 2,
   "metadata": {
    "ExecuteTime": {
     "end_time": "2020-08-05T13:42:08.861193Z",
     "start_time": "2020-08-05T13:42:06.271675Z"
    }
   },
   "outputs": [],
   "source": [
    "from networkx import to_numpy_matrix, degree_centrality, betweenness_centrality, shortest_path_length\n",
    "import mxnet.ndarray as nd\n",
    "\n",
    "zkc = load_karate_club()\n",
    "\n",
    "A = to_numpy_matrix(zkc.network)\n",
    "A = nd.array(A)\n",
    "\n",
    "X_train = zkc.X_train.flatten()\n",
    "y_train = zkc.y_train\n",
    "X_test = zkc.X_test.flatten()\n",
    "y_test = zkc.y_test"
   ]
  },
  {
   "cell_type": "code",
   "execution_count": 9,
   "metadata": {
    "ExecuteTime": {
     "end_time": "2020-08-05T13:53:46.092015Z",
     "start_time": "2020-08-05T13:53:46.065478Z"
    }
   },
   "outputs": [
    {
     "data": {
      "text/plain": [
       "(2,)"
      ]
     },
     "metadata": {},
     "output_type": "display_data"
    },
    {
     "data": {
      "text/plain": [
       "(32,)"
      ]
     },
     "metadata": {},
     "output_type": "display_data"
    },
    {
     "data": {
      "text/plain": [
       "array([ 0, 33])"
      ]
     },
     "metadata": {},
     "output_type": "display_data"
    },
    {
     "data": {
      "text/plain": [
       "array([ True, False])"
      ]
     },
     "metadata": {},
     "output_type": "display_data"
    },
    {
     "data": {
      "text/plain": [
       "array([ 1,  2,  3,  4,  5,  6,  7,  8, 10, 11, 12, 13, 17, 19, 21, 31, 30,\n",
       "        9, 27, 28, 32, 16, 14, 15, 18, 20, 22, 23, 25, 29, 24, 26])"
      ]
     },
     "metadata": {},
     "output_type": "display_data"
    },
    {
     "data": {
      "text/plain": [
       "array([ True,  True,  True,  True,  True,  True,  True,  True,  True,\n",
       "        True,  True,  True,  True,  True,  True, False, False, False,\n",
       "       False, False, False,  True, False, False, False, False, False,\n",
       "       False, False, False, False, False])"
      ]
     },
     "metadata": {},
     "output_type": "display_data"
    }
   ],
   "source": [
    "display(X_train.shape, X_test.shape)\n",
    "display(X_train, y_train, X_test, y_test)"
   ]
  },
  {
   "cell_type": "markdown",
   "metadata": {},
   "source": [
    "# Layer Implementations"
   ]
  },
  {
   "cell_type": "code",
   "execution_count": 10,
   "metadata": {
    "ExecuteTime": {
     "end_time": "2020-08-05T13:58:00.878878Z",
     "start_time": "2020-08-05T13:58:00.873214Z"
    }
   },
   "outputs": [],
   "source": [
    "import mxnet.ndarray as nd"
   ]
  },
  {
   "cell_type": "code",
   "execution_count": 14,
   "metadata": {
    "ExecuteTime": {
     "end_time": "2020-08-05T14:01:19.746094Z",
     "start_time": "2020-08-05T14:01:19.729042Z"
    }
   },
   "outputs": [
    {
     "data": {
      "text/plain": [
       "\n",
       "[[3. 6.]\n",
       " [3. 4.]]\n",
       "<NDArray 2x2 @cpu(0)>"
      ]
     },
     "metadata": {},
     "output_type": "display_data"
    },
    {
     "data": {
      "text/plain": [
       "\n",
       "[[ 5.]\n",
       " [13.]]\n",
       "<NDArray 2x1 @cpu(0)>"
      ]
     },
     "metadata": {},
     "output_type": "display_data"
    }
   ],
   "source": [
    "# check * notation is dot or elements product\n",
    "# it is element-wise product\n",
    "a = nd.array([[1,2],[3,4]]) # 2, 2\n",
    "b = nd.array([[3],[1]]) # 2, 1\n",
    "display(a * b,  nd.dot(a, b))"
   ]
  },
  {
   "cell_type": "code",
   "execution_count": 15,
   "metadata": {
    "ExecuteTime": {
     "end_time": "2020-08-05T14:09:39.254305Z",
     "start_time": "2020-08-05T14:09:39.235355Z"
    }
   },
   "outputs": [],
   "source": [
    "from mxnet.gluon import HybridBlock\n",
    "from mxnet.gluon.nn import Activation\n",
    "import mxnet.ndarray as nd\n",
    "\n",
    "class SpectralRule(HybridBlock):\n",
    "    def __init__(self, A, in_units, out_units, activation='relu', **kwargs):\n",
    "        super().__init__(**kwargs)\n",
    "        I = nd.eye(*A.shape)\n",
    "        A_hat = A.copy() + I\n",
    "\n",
    "        D = nd.sum(A_hat, axis=0)\n",
    "        D_inv = D**-0.5\n",
    "        D_inv = nd.diag(D_inv)\n",
    "\n",
    "        A_hat = D_inv * A_hat * D_inv\n",
    "        \n",
    "        self.in_units, self.out_units = in_units, out_units\n",
    "        \n",
    "        with self.name_scope():\n",
    "            self.A_hat = self.params.get_constant('A_hat', A_hat)\n",
    "            self.W = self.params.get(\n",
    "                'W', shape=(self.in_units, self.out_units)\n",
    "            )\n",
    "            if activation == 'identity':\n",
    "                self.activation = lambda X: X\n",
    "            else:\n",
    "                self.activation = Activation(activation)\n",
    "\n",
    "    def hybrid_forward(self, F, X, A_hat, W):\n",
    "        aggregate = F.dot(A_hat, X)\n",
    "        propagate = self.activation(\n",
    "            F.dot(aggregate, W))\n",
    "        return propagate"
   ]
  },
  {
   "cell_type": "code",
   "execution_count": 16,
   "metadata": {
    "ExecuteTime": {
     "end_time": "2020-08-05T14:09:39.987178Z",
     "start_time": "2020-08-05T14:09:39.977280Z"
    }
   },
   "outputs": [],
   "source": [
    "class LogisticRegressor(HybridBlock):\n",
    "    def __init__(self, in_units, **kwargs):\n",
    "        super().__init__(**kwargs)\n",
    "        with self.name_scope():\n",
    "            self.w = self.params.get(\n",
    "                'w', shape=(1, in_units)\n",
    "            )\n",
    "\n",
    "            self.b = self.params.get(\n",
    "                'b', shape=(1, 1)\n",
    "            )\n",
    "\n",
    "    def hybrid_forward(self, F, X, w, b):\n",
    "        # Change shape of b to comply with MXnet addition API\n",
    "        b = F.broadcast_axis(b, axis=(0,1), size=(34, 1))\n",
    "        y = F.dot(X, w, transpose_b=True) + b\n",
    "\n",
    "        return F.sigmoid(y)"
   ]
  },
  {
   "cell_type": "markdown",
   "metadata": {},
   "source": [
    "# Models"
   ]
  },
  {
   "cell_type": "code",
   "execution_count": 17,
   "metadata": {
    "ExecuteTime": {
     "end_time": "2020-08-05T14:09:41.474751Z",
     "start_time": "2020-08-05T14:09:41.458308Z"
    },
    "scrolled": true
   },
   "outputs": [],
   "source": [
    "from mxnet.gluon.nn import HybridSequential, Activation\n",
    "from mxnet.ndarray import array\n",
    "from mxnet.initializer import One, Uniform, Xavier\n",
    "from mxnet.gluon.loss import SigmoidBinaryCrossEntropyLoss\n",
    "\n",
    "def build_features(A, X):\n",
    "    hidden_layer_specs = [(4, 'tanh'), (2, 'tanh')] # Format: (units in layer, activation function)\n",
    "    in_units = in_units=X.shape[1]\n",
    "  \n",
    "    features = HybridSequential()\n",
    "    with features.name_scope():\n",
    "        for i, (layer_size, activation_func) in enumerate(hidden_layer_specs):\n",
    "            layer = SpectralRule(\n",
    "                A, in_units=in_units, out_units=layer_size, \n",
    "                activation=activation_func)\n",
    "            features.add(layer)\n",
    "\n",
    "            in_units = layer_size\n",
    "    return features, in_units\n",
    "\n",
    "def build_model(A, X):\n",
    "    model = HybridSequential()\n",
    "    hidden_layer_specs = [(4, 'tanh'), (2, 'tanh')]\n",
    "    in_units = in_units=X.shape[1]\n",
    "\n",
    "    with model.name_scope():\n",
    "        features, out_units = build_features(A, X)\n",
    "        model.add(features)\n",
    "\n",
    "        classifier = LogisticRegressor(out_units)\n",
    "        model.add(classifier)\n",
    "\n",
    "    model.hybridize()\n",
    "    model.initialize(Uniform(1))\n",
    "\n",
    "    return model, features"
   ]
  },
  {
   "cell_type": "markdown",
   "metadata": {},
   "source": [
    "## Model 1: Identity Matrix as Features"
   ]
  },
  {
   "cell_type": "code",
   "execution_count": 20,
   "metadata": {
    "ExecuteTime": {
     "end_time": "2020-08-05T14:11:45.223654Z",
     "start_time": "2020-08-05T14:11:45.193345Z"
    }
   },
   "outputs": [
    {
     "data": {
      "text/plain": [
       "\n",
       "[[0.38453645]\n",
       " [0.38527295]\n",
       " [0.38400236]\n",
       " [0.38679546]\n",
       " [0.37862045]\n",
       " [0.37945798]\n",
       " [0.3824698 ]\n",
       " [0.37868255]\n",
       " [0.38254464]\n",
       " [0.38242218]\n",
       " [0.36589605]\n",
       " [0.36671472]\n",
       " [0.38727626]\n",
       " [0.38571015]\n",
       " [0.4009519 ]\n",
       " [0.37338603]\n",
       " [0.38278222]\n",
       " [0.3849012 ]\n",
       " [0.39297837]\n",
       " [0.38696882]\n",
       " [0.39232314]\n",
       " [0.383714  ]\n",
       " [0.378627  ]\n",
       " [0.38476542]\n",
       " [0.3708577 ]\n",
       " [0.36897758]\n",
       " [0.4104205 ]\n",
       " [0.38160273]\n",
       " [0.38839436]\n",
       " [0.3863281 ]\n",
       " [0.3924109 ]\n",
       " [0.38947552]\n",
       " [0.39556646]\n",
       " [0.37505624]]\n",
       "<NDArray 34x1 @cpu(0)>"
      ]
     },
     "metadata": {},
     "output_type": "display_data"
    },
    {
     "data": {
      "text/plain": [
       "\n",
       "[[1. 0. 0. ... 0. 0. 0.]\n",
       " [0. 1. 0. ... 0. 0. 0.]\n",
       " [0. 0. 1. ... 0. 0. 0.]\n",
       " ...\n",
       " [0. 0. 0. ... 1. 0. 0.]\n",
       " [0. 0. 0. ... 0. 1. 0.]\n",
       " [0. 0. 0. ... 0. 0. 1.]]\n",
       "<NDArray 34x34 @cpu(0)>"
      ]
     },
     "metadata": {},
     "output_type": "display_data"
    },
    {
     "data": {
      "text/plain": [
       "\n",
       "[[0. 1. 1. ... 0. 0. 0.]\n",
       " [1. 0. 1. ... 0. 0. 0.]\n",
       " [1. 1. 0. ... 0. 0. 0.]\n",
       " ...\n",
       " [0. 0. 0. ... 0. 0. 1.]\n",
       " [0. 0. 0. ... 0. 0. 0.]\n",
       " [0. 0. 0. ... 1. 0. 0.]]\n",
       "<NDArray 34x34 @cpu(0)>"
      ]
     },
     "metadata": {},
     "output_type": "display_data"
    }
   ],
   "source": [
    "X_1 = I = nd.eye(*A.shape)\n",
    "model_1, features_1 = build_model(A, X_1)\n",
    "display(model_1(X_1), X_1, A)"
   ]
  },
  {
   "cell_type": "markdown",
   "metadata": {},
   "source": [
    "## Model 2: Distance to Administrator and Instructor as Additional Features\n",
    "\n",
    "* 加入兩個新的feature - 各個節點連接到Administrator以及Instructor的最短路徑長度 - 表示一種關係強度的特徵，即使我們已經有鄰接矩陣，但這樣的特徵可以幫助我們更了解各個成員距離和Adminstrator, Instructor的關係強度"
   ]
  },
  {
   "cell_type": "code",
   "execution_count": 35,
   "metadata": {
    "ExecuteTime": {
     "end_time": "2020-08-05T14:32:16.501486Z",
     "start_time": "2020-08-05T14:32:16.485073Z"
    }
   },
   "outputs": [],
   "source": [
    "import seaborn as sns\n",
    "import matplotlib.pyplot as plot\n",
    "import pandas as pd\n",
    "%matplotlib inline"
   ]
  },
  {
   "cell_type": "code",
   "execution_count": 39,
   "metadata": {
    "ExecuteTime": {
     "end_time": "2020-08-05T14:33:06.840476Z",
     "start_time": "2020-08-05T14:33:06.298342Z"
    }
   },
   "outputs": [
    {
     "data": {
      "image/png": "[encoded data removed]",
      "text/plain": [
       "<Figure size 432x288 with 2 Axes>"
      ]
     },
     "metadata": {
      "needs_background": "light"
     },
     "output_type": "display_data"
    }
   ],
   "source": [
    "X_2 = nd.zeros((A.shape[0], 2))\n",
    "node_distance_instructor = shortest_path_length(zkc.network, target=33)\n",
    "node_distance_administrator = shortest_path_length(zkc.network, target=0)\n",
    "\n",
    "for node in zkc.network.nodes():\n",
    "    X_2[node][0] = node_distance_administrator[node]\n",
    "    X_2[node][1] = node_distance_instructor[node]\n",
    "\n",
    "df = pd.DataFrame(X_2.asnumpy())\n",
    "ax = sns.heatmap(df.T,  cmap=\"Blues\")"
   ]
  },
  {
   "cell_type": "code",
   "execution_count": 23,
   "metadata": {
    "ExecuteTime": {
     "end_time": "2020-08-05T14:12:42.721329Z",
     "start_time": "2020-08-05T14:12:42.685314Z"
    }
   },
   "outputs": [
    {
     "data": {
      "text/plain": [
       "\n",
       "[[0.45630231]\n",
       " [0.4508565 ]\n",
       " [0.4515144 ]\n",
       " [0.44936156]\n",
       " [0.43585536]\n",
       " [0.44915253]\n",
       " [0.44838858]\n",
       " [0.44639355]\n",
       " [0.44689578]\n",
       " [0.44456998]\n",
       " [0.40450302]\n",
       " [0.4123596 ]\n",
       " [0.4516814 ]\n",
       " [0.40882823]\n",
       " [0.43688026]\n",
       " [0.45141783]\n",
       " [0.44660023]\n",
       " [0.4424334 ]\n",
       " [0.44739023]\n",
       " [0.44989967]\n",
       " [0.4355531 ]\n",
       " [0.45382524]\n",
       " [0.39836302]\n",
       " [0.4551535 ]\n",
       " [0.3999242 ]\n",
       " [0.4271048 ]\n",
       " [0.42709652]\n",
       " [0.43261012]\n",
       " [0.47193933]\n",
       " [0.44624743]\n",
       " [0.43878743]\n",
       " [0.44783783]\n",
       " [0.43595275]\n",
       " [0.43926147]]\n",
       "<NDArray 34x1 @cpu(0)>"
      ]
     },
     "metadata": {},
     "output_type": "display_data"
    },
    {
     "data": {
      "text/plain": [
       "\n",
       "[[1. 0. 0. ... 0. 0. 2.]\n",
       " [0. 1. 0. ... 0. 1. 2.]\n",
       " [0. 0. 1. ... 0. 1. 2.]\n",
       " ...\n",
       " [0. 0. 0. ... 0. 1. 1.]\n",
       " [0. 0. 0. ... 0. 2. 1.]\n",
       " [0. 0. 0. ... 1. 2. 0.]]\n",
       "<NDArray 34x36 @cpu(0)>"
      ]
     },
     "metadata": {},
     "output_type": "display_data"
    },
    {
     "data": {
      "text/plain": [
       "\n",
       "[[0. 1. 1. ... 0. 0. 0.]\n",
       " [1. 0. 1. ... 0. 0. 0.]\n",
       " [1. 1. 0. ... 0. 0. 0.]\n",
       " ...\n",
       " [0. 0. 0. ... 0. 0. 1.]\n",
       " [0. 0. 0. ... 0. 0. 0.]\n",
       " [0. 0. 0. ... 1. 0. 0.]]\n",
       "<NDArray 34x34 @cpu(0)>"
      ]
     },
     "metadata": {},
     "output_type": "display_data"
    }
   ],
   "source": [
    "X_2 = nd.concat(X_1, X_2)\n",
    "model_2, features_2 = build_model(A, X_2)\n",
    "model_2(X_2)\n",
    "\n",
    "display(model_2(X_2), X_2, A)"
   ]
  },
  {
   "cell_type": "markdown",
   "metadata": {},
   "source": [
    "# Train and Test Models"
   ]
  },
  {
   "cell_type": "code",
   "execution_count": 24,
   "metadata": {
    "ExecuteTime": {
     "end_time": "2020-08-05T14:13:16.719724Z",
     "start_time": "2020-08-05T14:13:16.684515Z"
    }
   },
   "outputs": [
    {
     "name": "stdout",
     "output_type": "stream",
     "text": [
      "CPU times: user 7 µs, sys: 2 µs, total: 9 µs\n",
      "Wall time: 85.8 µs\n"
     ]
    }
   ],
   "source": [
    "%time\n",
    "from mxnet import autograd\n",
    "from mxnet.gluon import Trainer\n",
    "from mxnet.ndarray import sum as ndsum\n",
    "import numpy as np\n",
    "\n",
    "def train(model, features, X, X_train, y_train, epochs):\n",
    "    cross_entropy = SigmoidBinaryCrossEntropyLoss(from_sigmoid=True)\n",
    "    trainer = Trainer(model.collect_params(), 'sgd', {'learning_rate': 0.001, 'momentum': 1})\n",
    "\n",
    "    feature_representations = [features(X).asnumpy()]\n",
    "\n",
    "    for e in range(1, epochs + 1):\n",
    "        cum_loss = 0\n",
    "        cum_preds = []\n",
    "\n",
    "        for i, x in enumerate(X_train):\n",
    "            y = array(y_train)[i]\n",
    "            with autograd.record():\n",
    "                preds = model(X)[x]\n",
    "                loss = cross_entropy(preds, y)\n",
    "            loss.backward()\n",
    "            trainer.step(1)\n",
    "\n",
    "            cum_loss += loss.asscalar()\n",
    "            cum_preds += [preds.asscalar()]\n",
    "\n",
    "        feature_representations.append(features(X).asnumpy())\n",
    "            \n",
    "        if (e % (epochs//10)) == 0:\n",
    "            print(f\"Epoch {e}/{epochs} -- Loss: {cum_loss: .4f}\")\n",
    "            print(cum_preds)\n",
    "    return feature_representations\n",
    "\n",
    "def predict(model, X, nodes):\n",
    "    preds = model(X)[nodes].asnumpy().flatten()\n",
    "    return np.where(preds >= 0.5, 1, 0)"
   ]
  },
  {
   "cell_type": "markdown",
   "metadata": {},
   "source": [
    "## Performance of Model 1"
   ]
  },
  {
   "cell_type": "code",
   "execution_count": 25,
   "metadata": {
    "ExecuteTime": {
     "end_time": "2020-08-05T14:14:07.648528Z",
     "start_time": "2020-08-05T14:13:17.882320Z"
    }
   },
   "outputs": [
    {
     "name": "stdout",
     "output_type": "stream",
     "text": [
      "Epoch 500/5000 -- Loss:  0.0015\n",
      "[0.99999595, 0.0014864949]\n",
      "Epoch 1000/5000 -- Loss:  0.0000\n",
      "[1.0, 1.1555861e-07]\n",
      "Epoch 1500/5000 -- Loss:  0.0000\n",
      "[1.0, 1.05360096e-11]\n",
      "Epoch 2000/5000 -- Loss:  0.0000\n",
      "[1.0, 9.661362e-16]\n",
      "Epoch 2500/5000 -- Loss:  0.0000\n",
      "[1.0, 8.864596e-20]\n",
      "Epoch 3000/5000 -- Loss:  0.0000\n",
      "[1.0, 8.124298e-24]\n",
      "Epoch 3500/5000 -- Loss:  0.0000\n",
      "[1.0, 7.4013637e-28]\n",
      "Epoch 4000/5000 -- Loss:  0.0000\n",
      "[1.0, 6.79103e-32]\n",
      "Epoch 4500/5000 -- Loss:  0.0000\n",
      "[1.0, 6.230931e-36]\n",
      "Epoch 5000/5000 -- Loss:  0.0000\n",
      "[1.0, 0.0]\n",
      "              precision    recall  f1-score   support\n",
      "\n",
      "       False       0.36      0.31      0.33        16\n",
      "        True       0.39      0.44      0.41        16\n",
      "\n",
      "    accuracy                           0.38        32\n",
      "   macro avg       0.37      0.38      0.37        32\n",
      "weighted avg       0.37      0.38      0.37        32\n",
      "\n"
     ]
    }
   ],
   "source": [
    "from sklearn.metrics import classification_report\n",
    "\n",
    "feature_representations_1 = train(model_1, features_1, X_1, X_train, y_train, epochs=5000)\n",
    "y_pred_1 = predict(model_1, X_1, X_test)\n",
    "print(classification_report(y_test, y_pred_1))"
   ]
  },
  {
   "cell_type": "markdown",
   "metadata": {},
   "source": [
    "## Performance of Model 2"
   ]
  },
  {
   "cell_type": "code",
   "execution_count": 26,
   "metadata": {
    "ExecuteTime": {
     "end_time": "2020-08-05T14:14:10.502679Z",
     "start_time": "2020-08-05T14:14:07.657074Z"
    }
   },
   "outputs": [
    {
     "name": "stdout",
     "output_type": "stream",
     "text": [
      "Epoch 25/250 -- Loss:  1.3461\n",
      "[0.47373417, 0.45065102]\n",
      "Epoch 50/250 -- Loss:  1.2933\n",
      "[0.5145271, 0.46674407]\n",
      "Epoch 75/250 -- Loss:  1.1814\n",
      "[0.5619074, 0.4539177]\n",
      "Epoch 100/250 -- Loss:  0.9569\n",
      "[0.60607564, 0.3662827]\n",
      "Epoch 125/250 -- Loss:  0.6449\n",
      "[0.65918607, 0.20398323]\n",
      "Epoch 150/250 -- Loss:  0.3777\n",
      "[0.7428801, 0.07735302]\n",
      "Epoch 175/250 -- Loss:  0.1958\n",
      "[0.8446773, 0.026635718]\n",
      "Epoch 200/250 -- Loss:  0.0882\n",
      "[0.9248902, 0.01007265]\n",
      "Epoch 225/250 -- Loss:  0.0357\n",
      "[0.96906215, 0.0042475085]\n",
      "Epoch 250/250 -- Loss:  0.0135\n",
      "[0.9884786, 0.0019322525]\n",
      "              precision    recall  f1-score   support\n",
      "\n",
      "       False       0.62      0.94      0.75        16\n",
      "        True       0.88      0.44      0.58        16\n",
      "\n",
      "    accuracy                           0.69        32\n",
      "   macro avg       0.75      0.69      0.67        32\n",
      "weighted avg       0.75      0.69      0.67        32\n",
      "\n"
     ]
    }
   ],
   "source": [
    "feature_representations_2= train(model_2, features_2, X_2, X_train, y_train, epochs=250)\n",
    "y_pred_2 = predict(model_2, X_2, X_test)\n",
    "print(classification_report(y_test, y_pred_2))"
   ]
  },
  {
   "cell_type": "code",
   "execution_count": null,
   "metadata": {},
   "outputs": [],
   "source": []
  }
 ],
 "metadata": {
  "kernelspec": {
   "display_name": "Python 3",
   "language": "python",
   "name": "python3"
  },
  "language_info": {
   "codemirror_mode": {
    "name": "ipython",
    "version": 3
   },
   "file_extension": ".py",
   "mimetype": "text/x-python",
   "name": "python",
   "nbconvert_exporter": "python",
   "pygments_lexer": "ipython3",
   "version": "3.7.6"
  },
  "toc": {
   "base_numbering": 1,
   "nav_menu": {},
   "number_sections": true,
   "sideBar": true,
   "skip_h1_title": false,
   "title_cell": "Table of Contents",
   "title_sidebar": "Contents",
   "toc_cell": false,
   "toc_position": {},
   "toc_section_display": true,
   "toc_window_display": false
  }
 },
 "nbformat": 4,
 "nbformat_minor": 2
}
